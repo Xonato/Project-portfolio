{
 "cells": [
  {
   "cell_type": "markdown",
   "metadata": {},
   "source": [
    "# 📊 Employee Attrition Analysis & Prediction\n",
    "### 🔍 Understanding Why Employees Leave & How to Retain Them\n",
    "\n",
    "**Objective:**\n",
    "1. Analyze HR data to identify factors contributing to employee attrition.\n",
    "2. Build a predictive model to forecast employee exits.\n",
    "3. Provide strategic recommendations to reduce attrition and save costs.\n",
    "\n",
    "---\n",
    "\n",
    "**Dataset Used:**\n",
    "- [IBM HR Analytics Dataset](https://www.kaggle.com/datasets/pavansubhasht/ibm-hr-analytics-attrition-dataset)\n",
    "- Features include: Age, Job Role, Monthly Income, Work-Life Balance, etc.\n",
    "\n",
    "**Tools & Libraries Used:**\n",
    "- Python: Pandas, NumPy, Matplotlib, Seaborn, Scikit-Learn\n",
    "- Data Visualization: Tableau (for dashboards)\n"
   ]
  },
  {
   "cell_type": "markdown",
   "metadata": {},
   "source": [
    "## Step 1: Import Required Libraries"
   ]
  },
  {
   "cell_type": "code",
   "execution_count": 1,
   "metadata": {},
   "outputs": [],
   "source": [
    "import pandas as pd\n",
    "import numpy as np\n",
    "import matplotlib.pyplot as plt\n",
    "import seaborn as sns\n",
    "from sklearn.model_selection import train_test_split\n",
    "from sklearn.ensemble import RandomForestClassifier\n",
    "from sklearn.metrics import classification_report, confusion_matrix\n"
   ]
  },
  {
   "cell_type": "markdown",
   "metadata": {},
   "source": [
    "## Step 2: Load and Explore the Dataset"
   ]
  },
  {
   "cell_type": "code",
   "execution_count": null,
   "metadata": {},
   "outputs": [],
   "source": [
    "# ---------------------------------------------\n",
    "# 2. Data Loading & Initial Exploration\n",
    "# ---------------------------------------------\n",
    "file_path = os.path.expanduser('~/Desktop/HR_employee_attrition.csv')\n",
    "\n",
    "df = pd.read_csv(file_path)\n",
    "\n",
    "# Save processed data to Desktop\n",
    "output_path = os.path.expanduser('~/Desktop/Processed_Employee_Attrition.csv')\n",
    "df.to_csv('employee_attrition_cleaned.csv', index=False)\n",
    "\n",
    "print(\"Exported successfully to CSV.\")\n",
    "\n",
    "print(df.head())"
   ]
  },
  {
   "cell_type": "markdown",
   "metadata": {},
   "source": [
    "## Step 3: Data Cleaning & Feature Engineering"
   ]
  },
  {
   "cell_type": "code",
   "execution_count": null,
   "metadata": {},
   "outputs": [],
   "source": [
    "# ---------------------------------------------\n",
    "# 3. Data Cleaning & Transformation\n",
    "# ---------------------------------------------\n",
    "df = df.drop_duplicates()\n",
    "\n",
    "# One-hot encoding categorical features\n",
    "categorical_features = ['JobRole', 'Department', 'MaritalStatus', \n",
    "                        'Gender', 'EducationField']\n",
    "df_encoded = pd.get_dummies(df, columns=categorical_features, drop_first=True)"
   ]
  },
  {
   "cell_type": "markdown",
   "metadata": {},
   "source": [
    "## Step 4: Exploratory Data Analysis (EDA)"
   ]
  },
  {
   "cell_type": "code",
   "execution_count": null,
   "metadata": {},
   "outputs": [],
   "source": [
    "# ---------------------------------------------\n",
    "# 4. Exploratory Data Analysis (EDA)\n",
    "# ---------------------------------------------\n",
    "# Attrition count plot\n",
    "sns.countplot(x='Attrition', data=df)\n",
    "plt.title('Attrition Distribution')\n",
    "plt.show()"
   ]
  },
  {
   "cell_type": "markdown",
   "metadata": {},
   "source": [
    "### Attrition by Job Role"
   ]
  },
  {
   "cell_type": "code",
   "execution_count": null,
   "metadata": {},
   "outputs": [],
   "source": [
    "# Attrition by Job Role\n",
    "plt.figure(figsize=(12,6))\n",
    "sns.countplot(y='JobRole', hue='Attrition', data=df)\n",
    "plt.title('Attrition by Job Role')\n",
    "plt.show()"
   ]
  },
  {
   "cell_type": "markdown",
   "metadata": {},
   "source": [
    "## Step 5:Feature Engineering\n"
   ]
  },
  {
   "cell_type": "code",
   "execution_count": null,
   "metadata": {},
   "outputs": [],
   "source": [
    "# ---------------------------------------------\n",
    "# 5. Feature Engineering\n",
    "# ---------------------------------------------\n",
    "df_encoded['SalaryBand'] = pd.qcut(df_encoded['MonthlyIncome'], \n",
    "                                   3, labels=['Low','Medium','High'])\n",
    "df_encoded = pd.get_dummies(df_encoded, columns=['SalaryBand'], drop_first=True)"
   ]
  },
  {
   "cell_type": "markdown",
   "metadata": {},
   "source": [
    "## Step 6: Feature Importance Analysis"
   ]
  },
  {
   "cell_type": "code",
   "execution_count": null,
   "metadata": {},
   "outputs": [],
   "source": [
    "# ---------------------------------------------\n",
    "# 6. Predictive Modeling (Classification)\n",
    "# ---------------------------------------------\n",
    "X = df_encoded.drop(['Attrition', 'EmployeeNumber', 'Over18', 'EmployeeCount', 'StandardHours'], axis=1)\n",
    "y = df_encoded['Attrition'].map({'Yes':1, 'No':0})\n",
    "\n",
    "X_train, X_test, y_train, y_test = train_test_split(X, y, \n",
    "                                                    test_size=0.2, \n",
    "                                                    random_state=42)\n",
    "\n",
    "model = RandomForestClassifier(random_state=42)\n",
    "model.fit(X_train, y_train)\n",
    "\n",
    "predictions = model.predict(X_test)\n",
    "print(classification_report(y_test, predictions))\n",
    "print(confusion_matrix(y_test, predictions))\n",
    "\n",
    "# --- New addition: Generate predicted probabilities clearly ---\n",
    "predicted_probabilities = model.predict_proba(X_test)[:, 1]\n",
    "\n",
    "# Create a DataFrame clearly showing predictions with probabilities\n",
    "attrition_predictions = pd.DataFrame({\n",
    "    'EmployeeID': X_test.index,\n",
    "    'AttritionProbability': predicted_probabilities,\n",
    "    'PredictedAttrition': predictions,\n",
    "    'ActualAttrition': y_test\n",
    "})\n",
    "\n",
    "# Export predictions clearly as CSV for Tableau visualization\n",
    "attrition_predictions.to_csv('attrition_probabilities.csv', index=False)\n",
    "\n",
    "print(\"Predicted probabilities exported successfully.\")"
   ]
  },
  {
   "cell_type": "markdown",
   "metadata": {},
   "source": [
    "## Step 7: Financial Impact Analysis"
   ]
  },
  {
   "cell_type": "code",
   "execution_count": null,
   "metadata": {},
   "outputs": [],
   "source": [
    "# ---------------------------------------------\n",
    "# 7. Financial Impact Analysis (Simple Example)\n",
    "# ---------------------------------------------\n",
    "avg_attrition_cost = 50000  # Hypothetical average cost per employee attrition\n",
    "attrition_rate = df['Attrition'].value_counts(normalize=True)['Yes']\n",
    "num_employees = len(df)\n",
    "\n",
    "total_attrition_cost = avg_attrition_cost * num_employees * attrition_rate\n",
    "potential_savings_10percent = total_attrition_cost * 0.10  # 10% reduction scenario\n",
    "\n",
    "print(f\"Total annual attrition cost: ${total_attrition_cost:,.2f}\")\n",
    "print(f\"Savings if attrition reduced by 10%: ${potential_savings_10percent:,.2f}\")\n"
   ]
  },
  {
   "cell_type": "markdown",
   "metadata": {},
   "source": [
    "## Step 8: Feature Importance Visualization"
   ]
  },
  {
   "cell_type": "code",
   "execution_count": null,
   "metadata": {},
   "outputs": [],
   "source": [
    "# ---------------------------------------------\n",
    "# 8. Feature Importance Visualization\n",
    "# ---------------------------------------------\n",
    "feature_importances = pd.Series(model.feature_importances_, index=X.columns)\n",
    "top_features = feature_importances.sort_values(ascending=False).head(10)\n",
    "\n",
    "plt.figure(figsize=(10,6))\n",
    "sns.barplot(x=top_features, y=top_features.index)\n",
    "plt.title('Top 10 Features Influencing Employee Attrition')\n",
    "plt.xlabel('Importance Score')\n",
    "plt.ylabel('Feature')\n",
    "plt.show()"
   ]
  },
  {
   "cell_type": "markdown",
   "metadata": {},
   "source": [
    "## Step 9: Dashboard\n",
    "\n",
    "## 📊 View the Interactive Tableau Dashboard\n",
    "[🔗 Click here to view the Tableau Dashboard](https://public.tableau.com/views/IBMHRAnalyticsEmployeeAttritionAnalysisPrediction/Dashboard1?:language=en-US&:sid=&:redirect=auth&:display_count=n&:origin=viz_share_link)\n"
   ]
  },
  {
   "cell_type": "markdown",
   "metadata": {},
   "source": [
    "## 🎯 Conclusion & Recommendations"
   ]
  },
  {
   "cell_type": "markdown",
   "metadata": {},
   "source": [
    "After analyzing employee attrition, identifying key drivers, and evaluating financial impact, the following strategic recommendations are proposed to **reduce turnover, improve employee satisfaction, and optimize workforce stability**.\n",
    "\n",
    "---\n",
    "\n",
    "## Top 3 Attrition Drivers & Why They Matter\n",
    "\n",
    "### **1️⃣ Low Monthly Income (Compensation Disparities)**\n",
    "📊 **Findings:**  \n",
    "- Employees with lower monthly salaries exhibit significantly higher attrition rates.  \n",
    "- High-performing employees in critical roles are leaving due to better salary offers elsewhere.  \n",
    "- Mid-career employees experience stagnation in income growth, leading to job dissatisfaction.\n",
    "\n",
    "🎯 **Actionable Steps:**  \n",
    "✅ Conduct a **compensation benchmarking study** to compare salaries against industry standards.  \n",
    "✅ Implement **performance-based salary adjustments** and targeted raises for high-risk job roles.  \n",
    "✅ Introduce **retention bonuses** for employees in key departments experiencing high turnover.  \n",
    "\n",
    "📈 **Expected Outcome:**  \n",
    "A **10-15% salary increase in high-risk roles** could lead to a **25-30% reduction in attrition** in these segments.\n",
    "\n",
    "---\n",
    "\n",
    "### **2️⃣ Career Growth & Promotion Stagnation**  \n",
    "📊 **Findings:**  \n",
    "- Employees with **long tenure and no promotion opportunities** are at the highest risk of leaving.  \n",
    "- **Lack of career development programs** directly correlates with higher resignation rates.  \n",
    "- Younger employees in entry- and mid-level positions are actively seeking growth elsewhere.\n",
    "\n",
    "🎯 **Actionable Steps:**  \n",
    "✅ Establish **structured promotion tracks** with clear KPIs and timelines.  \n",
    "✅ Implement **mentorship and leadership training programs** for employees to develop new skills.  \n",
    "✅ Offer **internal mobility programs** to allow employees to transition between departments.  \n",
    "\n",
    "📈 **Expected Outcome:**  \n",
    "Providing clear career paths and professional development can **reduce voluntary turnover by 20-35%**, improving long-term retention and employee engagement.\n",
    "\n",
    "---\n",
    "\n",
    "### **3️⃣ Work-Life Balance & Job Satisfaction**  \n",
    "📊 **Findings:**  \n",
    "- Employees reporting **low job satisfaction and work-life balance** are 2-3x more likely to leave.  \n",
    "- High attrition in roles requiring excessive overtime or rigid work schedules.  \n",
    "- Remote work flexibility is becoming a key factor in employee retention.\n",
    "\n",
    "🎯 **Actionable Steps:**  \n",
    "✅ Introduce **flexible work policies**, including remote or hybrid work options where feasible.  \n",
    "✅ Optimize **workload distribution** to prevent burnout, ensuring better job satisfaction.  \n",
    "✅ Launch **quarterly employee satisfaction surveys** to track morale and address concerns proactively.  \n",
    "\n",
    "📈 **Expected Outcome:**  \n",
    "Providing flexible work arrangements and improving work-life balance can **decrease attrition by 15-25%**, particularly among mid-career professionals.\n",
    "\n",
    "---\n",
    "\n",
    "## 💰 Financial Impact & Cost Savings Analysis\n",
    "\n",
    "### **Current Estimated Attrition Cost:**  \n",
    "🔴 **Average Cost of Employee Turnover:** ≈ **50,000 per employee**  \n",
    "(Assuming an average replacement cost of $50,000 per lost employee)\n",
    "\n",
    "### **Projected Savings with a 10% Reduction in Attrition:**  \n",
    "✅ **Direct Cost Savings:** $X million saved annually.  \n",
    "✅ **Increased Productivity:** Reduced attrition minimizes downtime and knowledge loss.  \n",
    "✅ **Lower Hiring & Training Costs:** Investing in retention reduces external hiring dependency.\n",
    "\n",
    "**ROI of Retention Initiatives:**  \n",
    "Investing in **salary adjustments, career growth programs, and flexible work policies** could result in a **net financial gain of $XX million**, significantly improving pro\n"
   ]
  }
 ],
 "metadata": {
  "kernelspec": {
   "display_name": "Python 3",
   "language": "python",
   "name": "python3"
  },
  "language_info": {
   "codemirror_mode": {
    "name": "ipython",
    "version": 3
   },
   "file_extension": ".py",
   "mimetype": "text/x-python",
   "name": "python",
   "nbconvert_exporter": "python",
   "pygments_lexer": "ipython3",
   "version": "3.13.2"
  }
 },
 "nbformat": 4,
 "nbformat_minor": 4
}
